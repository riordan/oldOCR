{
 "metadata": {
  "name": "",
  "signature": "sha256:be00263f687c530de50b31286215152e8d485208a0588e1c064db356df60cece"
 },
 "nbformat": 3,
 "nbformat_minor": 0,
 "worksheets": [
  {
   "cells": [
    {
     "cell_type": "code",
     "collapsed": false,
     "input": [
      "f = open('back-of-photo-ids.txt')\n",
      "backids = []\n",
      "for l in f:\n",
      "    backids.append(l)\n",
      "\n",
      "    "
     ],
     "language": "python",
     "metadata": {},
     "outputs": [],
     "prompt_number": 18
    },
    {
     "cell_type": "code",
     "collapsed": false,
     "input": [
      "len(backids)"
     ],
     "language": "python",
     "metadata": {},
     "outputs": [
      {
       "metadata": {},
       "output_type": "pyout",
       "prompt_number": 19,
       "text": [
        "34726"
       ]
      }
     ],
     "prompt_number": 19
    },
    {
     "cell_type": "code",
     "collapsed": false,
     "input": [
      "shortback = []\n",
      "for l in backids:\n",
      "    if l not in shortback:\n",
      "        shortback.append(l)\n"
     ],
     "language": "python",
     "metadata": {},
     "outputs": [],
     "prompt_number": 20
    },
    {
     "cell_type": "code",
     "collapsed": false,
     "input": [
      "len(shortback)"
     ],
     "language": "python",
     "metadata": {},
     "outputs": [
      {
       "metadata": {},
       "output_type": "pyout",
       "prompt_number": 21,
       "text": [
        "34726"
       ]
      }
     ],
     "prompt_number": 21
    },
    {
     "cell_type": "markdown",
     "metadata": {},
     "source": [
      "Process:\n",
      "1. Grab low res from images.\n",
      "2. Run SWT to determine if there's text\n",
      "3. If there's text, fetch from ImageGet (see if we can automate)\n",
      "4. Fetch\n",
      "5. Ensure image orientation is correct (rotate if we have to)\n",
      "6. Rerun through tesseract"
     ]
    },
    {
     "cell_type": "code",
     "collapsed": false,
     "input": [
      "a = open('first1000.txt')\n",
      "first1000 = []\n",
      "for l in a:\n",
      "    first1000.append(l)"
     ],
     "language": "python",
     "metadata": {},
     "outputs": [],
     "prompt_number": 3
    },
    {
     "cell_type": "code",
     "collapsed": false,
     "input": [
      "import urllib.request\n",
      "from IPython import display\n",
      "count = 0\n",
      "total = len(backids)\n",
      "for image in backids:\n",
      "    i = image[:-1]\n",
      "    urllib.request.urlretrieve(\"http://images.nypl.org/index.php?id=%s&t=w\"%i, \"low//%s.jpg\"%i)\n",
      "    count +=1\n",
      "    display.clear_output(wait=True)\n",
      "    display.display(\"Images fetched: %d / %d\" %(count, total))\n",
      "    \n",
      "    \n",
      "\n",
      "    "
     ],
     "language": "python",
     "metadata": {},
     "outputs": [
      {
       "metadata": {},
       "output_type": "display_data",
       "text": [
        "'Images fetched: 34726 / 34726'"
       ]
      }
     ],
     "prompt_number": 25
    },
    {
     "cell_type": "code",
     "collapsed": false,
     "input": [
      "from os import listdir\n",
      "import os\n",
      "from os.path import isfile,join, defpath\n",
      "hrtif =[ f for f in listdir('highres') if (isfile(join('highres',f)) and \"u.tif\" in f)]\n",
      "tifpath = os.path.abspath('highres')\n",
      "lowjpg =[ f for f in listdir('low') if (isfile(join('low',f)) and \".jpg\" in f)]\n",
      "lowpath = os.path.abspath('low')"
     ],
     "language": "python",
     "metadata": {},
     "outputs": [],
     "prompt_number": 65
    },
    {
     "cell_type": "code",
     "collapsed": false,
     "input": [
      "tifpath"
     ],
     "language": "python",
     "metadata": {},
     "outputs": [
      {
       "metadata": {},
       "output_type": "pyout",
       "prompt_number": 66,
       "text": [
        "'/Users/driordan/Code/oldOcr/highres'"
       ]
      }
     ],
     "prompt_number": 66
    },
    {
     "cell_type": "code",
     "collapsed": false,
     "input": [
      "cd newthumbs"
     ],
     "language": "python",
     "metadata": {},
     "outputs": [
      {
       "output_type": "stream",
       "stream": "stdout",
       "text": [
        "/Users/driordan/Code/oldOcr/newthumbs\n"
       ]
      }
     ],
     "prompt_number": 67
    },
    {
     "cell_type": "code",
     "collapsed": false,
     "input": [
      "convertcount=0\n",
      "numtifs = len(hrtif)\n",
      "for t in hrtif:\n",
      "    imageID =(t[:-5])\n",
      "    if(imageID+\".jpg\" in lowjpg):\n",
      "        !python /usr/local/bin/locate-thumbnail.py {lowpath+\"/\"+imageID+\".jpg\"} {tifpath+\"/\"+t} --save-thumbnail\n",
      "        !tesseract {imageID+\".reconstructed.jpg\"} {imageID+\".ocr\"}\n",
      "        convertcount += 1\n",
      "        display.clear_output(wait=True)\n",
      "        display.display(\"TIFs converted: %d / %d\" %(convertcount, numtifs))\n",
      "    "
     ],
     "language": "python",
     "metadata": {},
     "outputs": [
      {
       "metadata": {},
       "output_type": "display_data",
       "text": [
        "'TIFs converted: 1000 / 1000'"
       ]
      }
     ],
     "prompt_number": 74
    },
    {
     "cell_type": "code",
     "collapsed": false,
     "input": [],
     "language": "python",
     "metadata": {},
     "outputs": []
    },
    {
     "cell_type": "code",
     "collapsed": false,
     "input": [],
     "language": "python",
     "metadata": {},
     "outputs": [
      {
       "output_type": "stream",
       "stream": "stdout",
       "text": [
        "708570b.jpg               Untitled0.ipynb           \u001b[1m\u001b[36mhighres\u001b[m\u001b[m\r\n",
        "708570b.reconstructed.jpg back-of-photo-ids.txt     homography.py\r\n",
        "708570b.txt               box.png                   \u001b[1m\u001b[36mlow\u001b[m\u001b[m\r\n",
        "708570b.txt.txt           box_in_scene.png          \u001b[1m\u001b[36mnewthumbs\u001b[m\u001b[m\r\n",
        "708570bu.jpg              colmer.jpg                test_surf.py\r\n",
        "708570bu.tif              first1000.txt\r\n"
       ]
      }
     ],
     "prompt_number": 60
    }
   ],
   "metadata": {}
  }
 ]
}